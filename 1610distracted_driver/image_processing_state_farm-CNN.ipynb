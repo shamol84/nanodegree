{
 "cells": [
  {
   "cell_type": "code",
   "execution_count": 1,
   "metadata": {
    "collapsed": false
   },
   "outputs": [],
   "source": [
    "import cPickle as pickle\n",
    "import numpy as np\n",
    "f = open('/home/mohammad/img_label.p','rb')\n",
    "label=pickle.load(f)\n",
    "f.close()\n",
    "\n",
    "f = open('/home/mohammad/img_data.p','rb')\n",
    "data=pickle.load(f)\n",
    "f.close()"
   ]
  },
  {
   "cell_type": "code",
   "execution_count": 2,
   "metadata": {
    "collapsed": false
   },
   "outputs": [
    {
     "data": {
      "text/plain": [
       "((22424,), (22424, 50, 50))"
      ]
     },
     "execution_count": 2,
     "metadata": {},
     "output_type": "execute_result"
    }
   ],
   "source": [
    "label.shape, data.shape"
   ]
  },
  {
   "cell_type": "code",
   "execution_count": null,
   "metadata": {
    "collapsed": true
   },
   "outputs": [],
   "source": []
  },
  {
   "cell_type": "code",
   "execution_count": 27,
   "metadata": {
    "collapsed": false,
    "scrolled": true
   },
   "outputs": [
    {
     "name": "stdout",
     "output_type": "stream",
     "text": [
      "('TRAIN:', array([ 7847,  5892, 14740, ...,  9417, 15291, 21710]), 'TEST:', array([19333,   164, 18740, ..., 19430, 10352,  9113]))\n",
      "('TRAIN:', array([ 3927,  1771,  6437, ..., 12229, 10047,  1140]), 'TEST:', array([12453, 14500, 14834, ...,  3847,  3098,  8061]))\n",
      "(12019, 50, 50) (3005, 50, 50) (7400, 50, 50) (7400,) (12019,)\n"
     ]
    }
   ],
   "source": [
    "from sklearn.model_selection import StratifiedShuffleSplit\n",
    "s = StratifiedShuffleSplit(n_splits=1, test_size=0.33, random_state=0)\n",
    "for train_index, test_index in s.split(data,label):\n",
    "    print(\"TRAIN:\", train_index, \"TEST:\", test_index)\n",
    "    X_train1, X_test = data[train_index], data[test_index]\n",
    "    y_train1, y_test = label[train_index], label[test_index]\n",
    "    \n",
    "s = StratifiedShuffleSplit(n_splits=1, test_size=0.2, random_state=0)\n",
    "for train_index, test_index in s.split(X_train1,y_train1):\n",
    "    print(\"TRAIN:\", train_index, \"TEST:\", test_index)\n",
    "    X_train, X_valid = X_train1[train_index], X_train1[test_index]\n",
    "    y_train, y_valid = y_train1[train_index], y_train1[test_index]\n",
    "    \n",
    "#X_train1, X_test, y_train1, y_test = StratifiedShuffleSplit(data, label,test_size=0.33, random_state=42)\n",
    "#X_train, X_valid, y_train, y_valid = train_test_split(X_train1, y_train1,test_size=0.2, random_state=42)\n",
    "print X_train.shape,X_valid.shape, X_test.shape,y_test.shape,y_train.shape"
   ]
  },
  {
   "cell_type": "code",
   "execution_count": 28,
   "metadata": {
    "collapsed": true
   },
   "outputs": [],
   "source": [
    "import tensorflow as tf\n",
    "import sys"
   ]
  },
  {
   "cell_type": "code",
   "execution_count": 29,
   "metadata": {
    "collapsed": false
   },
   "outputs": [],
   "source": [
    "sys.path.append('/home/mohammad/anaconda/lib/python2.7/site-packages')\n",
    "import keras\n",
    "from keras.utils import np_utils"
   ]
  },
  {
   "cell_type": "code",
   "execution_count": 30,
   "metadata": {
    "collapsed": false
   },
   "outputs": [
    {
     "name": "stdout",
     "output_type": "stream",
     "text": [
      "('Training set', (12019, 50, 50, 1))\n",
      "('Validation set', (3005, 50, 50, 1))\n"
     ]
    }
   ],
   "source": [
    "image_size=50\n",
    "num_labels=10\n",
    "def reformat(dataset1):\n",
    "    dataset1 = dataset1.reshape(dataset1.shape[0], image_size, image_size,1).astype(np.float32)\n",
    "    #dataset2 = dataset2.reshape(dataset2.shape[0], 1, image_size, image_size)\n",
    "    #dataset = dataset.reshape((-1, image_size * image_size)).astype(np.float32)\n",
    "    # Map 0 to [1.0, 0.0, 0.0 ...], 1 to [0.0, 1.0, 0.0 ...]\n",
    "    #labels = (np.arange(num_labels) == labels[:,None]).astype(np.float32)\n",
    "    #labels = labels.reshape((-1,10))\n",
    "    return dataset1\n",
    "X_train = reformat(X_train)\n",
    "X_valid = reformat(X_valid)\n",
    "X_test = reformat(X_test)\n",
    "print('Training set', X_train.shape)\n",
    "print('Validation set', X_valid.shape)\n",
    "#print('Test set', test_dataset.shape, test_labels.shape)"
   ]
  },
  {
   "cell_type": "code",
   "execution_count": 31,
   "metadata": {
    "collapsed": false
   },
   "outputs": [
    {
     "name": "stdout",
     "output_type": "stream",
     "text": [
      "('Training set', (12019, 10))\n",
      "('Validation set', (3005, 10))\n"
     ]
    }
   ],
   "source": [
    "y_train = np_utils.to_categorical(y_train, num_labels)\n",
    "y_test = np_utils.to_categorical(y_test, num_labels)\n",
    "y_valid = np_utils.to_categorical(y_valid, num_labels)\n",
    "print('Training set', y_train.shape)\n",
    "print('Validation set',y_valid.shape)"
   ]
  },
  {
   "cell_type": "code",
   "execution_count": 32,
   "metadata": {
    "collapsed": true
   },
   "outputs": [],
   "source": [
    "# input image dimensions\n",
    "img_rows, img_cols = 50,50\n",
    "# number of convolutional filters to use\n",
    "nb_filters = 32\n",
    "# size of pooling area for max pooling\n",
    "pool_size = (2, 2)\n",
    "# convolution kernel size\n",
    "kernel_size = (3, 3)\n",
    "nb_classes = 10\n",
    "input_shape = (img_rows, img_cols,1) ##this is tf backend, for theano (1,50,50)"
   ]
  },
  {
   "cell_type": "code",
   "execution_count": 73,
   "metadata": {
    "collapsed": false
   },
   "outputs": [],
   "source": [
    "from keras.models import Sequential\n",
    "from keras.layers import Dense, Dropout, Activation, Flatten\n",
    "from keras.layers import Convolution2D, MaxPooling2D\n",
    "from keras.utils import np_utils\n",
    "#from keras import backend as K\n",
    "\n",
    "\n",
    "model = Sequential()\n",
    "\n",
    "model.add(Convolution2D(nb_filters, kernel_size[0], kernel_size[1],\n",
    "                        border_mode='valid',\n",
    "                        input_shape=input_shape))\n",
    "conv1=model.add(Activation('relu'))\n",
    "model.add(Convolution2D(nb_filters, kernel_size[0], kernel_size[1]))\n",
    "model.add(Activation('relu'))\n",
    "model.add(MaxPooling2D(pool_size=pool_size))\n",
    "#model.add(Dropout(0.25))\n",
    "\n",
    "model.add(Flatten())\n",
    "model.add(Dense(128))\n",
    "model.add(Activation('relu'))\n",
    "#model.add(Dropout(0.5))\n",
    "model.add(Dense(nb_classes))\n",
    "model.add(Activation('softmax'))\n",
    "\n",
    "\n",
    "\n",
    "model.compile(loss='categorical_crossentropy', optimizer='sgd', metrics=['accuracy'])"
   ]
  },
  {
   "cell_type": "code",
   "execution_count": 74,
   "metadata": {
    "collapsed": false
   },
   "outputs": [
    {
     "name": "stdout",
     "output_type": "stream",
     "text": [
      "____________________________________________________________________________________________________\n",
      "Layer (type)                     Output Shape          Param #     Connected to                     \n",
      "====================================================================================================\n",
      "convolution2d_9 (Convolution2D)  (None, 48, 48, 32)    320         convolution2d_input_5[0][0]      \n",
      "____________________________________________________________________________________________________\n",
      "activation_17 (Activation)       (None, 48, 48, 32)    0           convolution2d_9[0][0]            \n",
      "____________________________________________________________________________________________________\n",
      "convolution2d_10 (Convolution2D) (None, 46, 46, 32)    9248        activation_17[0][0]              \n",
      "____________________________________________________________________________________________________\n",
      "activation_18 (Activation)       (None, 46, 46, 32)    0           convolution2d_10[0][0]           \n",
      "____________________________________________________________________________________________________\n",
      "maxpooling2d_5 (MaxPooling2D)    (None, 23, 23, 32)    0           activation_18[0][0]              \n",
      "____________________________________________________________________________________________________\n",
      "flatten_5 (Flatten)              (None, 16928)         0           maxpooling2d_5[0][0]             \n",
      "____________________________________________________________________________________________________\n",
      "dense_9 (Dense)                  (None, 128)           2166912     flatten_5[0][0]                  \n",
      "____________________________________________________________________________________________________\n",
      "activation_19 (Activation)       (None, 128)           0           dense_9[0][0]                    \n",
      "____________________________________________________________________________________________________\n",
      "dense_10 (Dense)                 (None, 10)            1290        activation_19[0][0]              \n",
      "____________________________________________________________________________________________________\n",
      "activation_20 (Activation)       (None, 10)            0           dense_10[0][0]                   \n",
      "====================================================================================================\n",
      "Total params: 2177770\n",
      "____________________________________________________________________________________________________\n"
     ]
    }
   ],
   "source": [
    "model.summary()"
   ]
  },
  {
   "cell_type": "code",
   "execution_count": 75,
   "metadata": {
    "collapsed": false
   },
   "outputs": [
    {
     "name": "stdout",
     "output_type": "stream",
     "text": [
      "Train on 12019 samples, validate on 3005 samples\n",
      "Epoch 1/20\n",
      "12019/12019 [==============================] - 80s - loss: 2.2557 - acc: 0.1730 - val_loss: 2.1428 - val_acc: 0.1977\n",
      "Epoch 2/20\n",
      "12019/12019 [==============================] - 82s - loss: 1.8231 - acc: 0.3575 - val_loss: 1.5021 - val_acc: 0.5022\n",
      "Epoch 3/20\n",
      "12019/12019 [==============================] - 80s - loss: 1.3910 - acc: 0.5163 - val_loss: 1.2380 - val_acc: 0.5062\n",
      "Epoch 4/20\n",
      "12019/12019 [==============================] - 79s - loss: 1.0302 - acc: 0.6504 - val_loss: 1.1005 - val_acc: 0.5817\n",
      "Epoch 5/20\n",
      "12019/12019 [==============================] - 79s - loss: 0.7166 - acc: 0.7698 - val_loss: 0.8540 - val_acc: 0.7850\n",
      "Epoch 6/20\n",
      "12019/12019 [==============================] - 81s - loss: 0.4550 - acc: 0.8606 - val_loss: 0.4775 - val_acc: 0.8499\n",
      "Epoch 7/20\n",
      "12019/12019 [==============================] - 85s - loss: 0.3028 - acc: 0.9111 - val_loss: 0.3017 - val_acc: 0.9085\n",
      "Epoch 8/20\n",
      "12019/12019 [==============================] - 87s - loss: 0.2091 - acc: 0.9424 - val_loss: 0.1887 - val_acc: 0.9464\n",
      "Epoch 9/20\n",
      "12019/12019 [==============================] - 90s - loss: 0.1545 - acc: 0.9588 - val_loss: 0.1978 - val_acc: 0.9484\n",
      "Epoch 10/20\n",
      "12019/12019 [==============================] - 92s - loss: 0.1195 - acc: 0.9685 - val_loss: 0.1714 - val_acc: 0.9488\n",
      "Epoch 11/20\n",
      "12019/12019 [==============================] - 83s - loss: 0.0925 - acc: 0.9756 - val_loss: 0.1120 - val_acc: 0.9700\n",
      "Epoch 12/20\n",
      "12019/12019 [==============================] - 91s - loss: 0.0741 - acc: 0.9806 - val_loss: 0.1475 - val_acc: 0.9564\n",
      "Epoch 13/20\n",
      "12019/12019 [==============================] - 93s - loss: 0.0599 - acc: 0.9834 - val_loss: 0.0798 - val_acc: 0.9790\n",
      "Epoch 14/20\n",
      "12019/12019 [==============================] - 91s - loss: 0.0423 - acc: 0.9908 - val_loss: 0.0854 - val_acc: 0.9784\n",
      "Epoch 15/20\n",
      "12019/12019 [==============================] - 92s - loss: 0.0331 - acc: 0.9928 - val_loss: 0.0885 - val_acc: 0.9797\n",
      "Epoch 16/20\n",
      "12019/12019 [==============================] - 93s - loss: 0.0340 - acc: 0.9914 - val_loss: 0.0872 - val_acc: 0.9784\n",
      "Epoch 17/20\n",
      "12019/12019 [==============================] - 96s - loss: 0.0234 - acc: 0.9947 - val_loss: 0.0708 - val_acc: 0.9834\n",
      "Epoch 18/20\n",
      "12019/12019 [==============================] - 88s - loss: 0.0183 - acc: 0.9962 - val_loss: 0.0627 - val_acc: 0.9840\n",
      "Epoch 19/20\n",
      "12019/12019 [==============================] - 91s - loss: 0.0137 - acc: 0.9974 - val_loss: 0.0742 - val_acc: 0.9814\n",
      "Epoch 20/20\n",
      "12019/12019 [==============================] - 92s - loss: 0.0117 - acc: 0.9973 - val_loss: 0.0566 - val_acc: 0.9850\n"
     ]
    }
   ],
   "source": [
    "#model.compile(loss='binary_crossentropy', optimizer='adam', metrics=['accuracy'])\n",
    "# Fit the model\n",
    "history = model.fit(X_train, y_train, validation_data=(X_valid, y_valid), nb_epoch=20, batch_size=32,verbose=1)"
   ]
  },
  {
   "cell_type": "code",
   "execution_count": 76,
   "metadata": {
    "collapsed": false
   },
   "outputs": [
    {
     "name": "stdout",
     "output_type": "stream",
     "text": [
      "3005/3005 [==============================] - 6s     \n",
      "('Score log_loss: ', 0.056626693731565203)\n"
     ]
    }
   ],
   "source": [
    "from sklearn.metrics import log_loss\n",
    "predictions_valid = model.predict(X_valid, batch_size=128, verbose=1)\n",
    "score = log_loss(y_valid, predictions_valid)\n",
    "print('Score log_loss: ', score)"
   ]
  },
  {
   "cell_type": "code",
   "execution_count": 77,
   "metadata": {
    "collapsed": false
   },
   "outputs": [
    {
     "name": "stdout",
     "output_type": "stream",
     "text": [
      "7400/7400 [==============================] - 15s    \n",
      "7400/7400 [==============================] - 15s    \n",
      "7400/7400 [==============================] - 14s    \n",
      "('Score log_loss: ', 0.069261279930452613)\n"
     ]
    }
   ],
   "source": [
    "classes = model.predict_classes(X_test, batch_size=32)\n",
    "proba = model.predict_proba(X_test, batch_size=32)\n",
    "predictions_test = model.predict(X_test, batch_size=128, verbose=1)\n",
    "score = log_loss(y_test, predictions_test)\n",
    "print('Score log_loss: ', score)"
   ]
  },
  {
   "cell_type": "code",
   "execution_count": 78,
   "metadata": {
    "collapsed": false
   },
   "outputs": [
    {
     "name": "stdout",
     "output_type": "stream",
     "text": [
      "('Test score:', 0.069060982824680775)\n",
      "('Test accuracy:', 0.98243243243243239)\n"
     ]
    }
   ],
   "source": [
    "score = model.evaluate(X_test, y_test, verbose=0)\n",
    "print('Test score:', score[0])\n",
    "print('Test accuracy:', score[1])"
   ]
  },
  {
   "cell_type": "code",
   "execution_count": 79,
   "metadata": {
    "collapsed": false
   },
   "outputs": [
    {
     "data": {
      "text/plain": [
       "array([ 1.,  0.,  0.,  0.,  0.,  0.,  0.,  0.,  0.,  0.])"
      ]
     },
     "execution_count": 79,
     "metadata": {},
     "output_type": "execute_result"
    }
   ],
   "source": [
    "y_test[1]"
   ]
  },
  {
   "cell_type": "code",
   "execution_count": 88,
   "metadata": {
    "collapsed": false
   },
   "outputs": [
    {
     "name": "stdout",
     "output_type": "stream",
     "text": [
      "['acc', 'loss', 'val_acc', 'val_loss']\n"
     ]
    },
    {
     "data": {
      "image/png": "[encoded data removed]",
      "text/plain": [
       "<matplotlib.figure.Figure at 0x7f501555b0d0>"
      ]
     },
     "metadata": {},
     "output_type": "display_data"
    }
   ],
   "source": [
    "import matplotlib.pyplot as plt\n",
    "# list all data in history\n",
    "print(history.history.keys())\n",
    "# summarize history for accuracy\n",
    "plt.plot(history.history['acc'])\n",
    "plt.plot(history.history['val_acc'])\n",
    "plt.title('model accuracy')\n",
    "plt.ylabel('accuracy')\n",
    "plt.xlabel('epoch')\n",
    "plt.legend(['train', 'validation'], loc='lower right')\n",
    "#\n",
    "plt.show()\n",
    "#plt.savefig('/home/mohammad/model_accuracy.png',dpi=300)\n"
   ]
  },
  {
   "cell_type": "code",
   "execution_count": 90,
   "metadata": {
    "collapsed": false
   },
   "outputs": [],
   "source": [
    "import matplotlib.pyplot as plt\n",
    "# summarize history for loss\n",
    "plt.plot(history.history['loss'])\n",
    "plt.plot(history.history['val_loss'])\n",
    "plt.title('model loss')\n",
    "plt.ylabel('loss')\n",
    "plt.xlabel('epoch')\n",
    "plt.legend(['train', 'validation'], loc='upper right')\n",
    "#plt.show()\n",
    "plt.savefig('/home/mohammad/model_loss.png',dpi=300)"
   ]
  },
  {
   "cell_type": "code",
   "execution_count": 17,
   "metadata": {
    "collapsed": false
   },
   "outputs": [
    {
     "data": {
      "text/plain": [
       "array([ 0.,  0.,  0.,  0.,  0.,  1.,  0.,  0.,  0.,  0.], dtype=float32)"
      ]
     },
     "execution_count": 17,
     "metadata": {},
     "output_type": "execute_result"
    }
   ],
   "source": [
    "np.round(predictions_test[0],1)"
   ]
  },
  {
   "cell_type": "code",
   "execution_count": 63,
   "metadata": {
    "collapsed": false
   },
   "outputs": [
    {
     "data": {
      "image/png": "[encoded data removed]",
      "text/plain": [
       "<matplotlib.figure.Figure at 0x7f500edf6390>"
      ]
     },
     "metadata": {},
     "output_type": "display_data"
    }
   ],
   "source": [
    "import matplotlib.cm as cm\n",
    "i = 1600\n",
    "a = X_test[i]\n",
    "a = a.reshape(1,50,50)\n",
    "plt.imshow(X_test[i, 0], interpolation='nearest',cmap= cm.binary)\n",
    "plt.show()\n",
    "#a.shape"
   ]
  },
  {
   "cell_type": "code",
   "execution_count": 108,
   "metadata": {
    "collapsed": false
   },
   "outputs": [
    {
     "name": "stdout",
     "output_type": "stream",
     "text": [
      "             precision    recall  f1-score   support\n",
      "\n",
      "          0       0.99      0.98      0.98       821\n",
      "          1       0.98      1.00      0.99       748\n",
      "          2       0.99      0.98      0.98       765\n",
      "          3       0.99      0.99      0.99       774\n",
      "          4       0.98      0.98      0.98       768\n",
      "          5       0.99      0.99      0.99       763\n",
      "          6       0.97      0.99      0.98       767\n",
      "          7       0.98      0.99      0.98       661\n",
      "          8       0.98      0.94      0.96       631\n",
      "          9       0.97      0.98      0.97       702\n",
      "\n",
      "avg / total       0.98      0.98      0.98      7400\n",
      "\n"
     ]
    }
   ],
   "source": [
    "from sklearn.metrics import classification_report\n",
    "y_pred = np.argmax(predictions_test, axis=1)\n",
    "y_test1 = np.argmax(y_test,axis=1)\n",
    "print(classification_report(y_test1, y_pred))\n",
    "\n"
   ]
  },
  {
   "cell_type": "code",
   "execution_count": 120,
   "metadata": {
    "collapsed": false
   },
   "outputs": [
    {
     "name": "stdout",
     "output_type": "stream",
     "text": [
      "[[803   3   2   2   2   0   3   3   0   3]\n",
      " [  0 745   0   1   0   0   0   0   1   1]\n",
      " [  1   2 751   1   1   1   3   4   1   0]\n",
      " [  0   0   0 770   4   0   0   0   0   0]\n",
      " [  4   1   0   0 756   0   4   0   1   2]\n",
      " [  2   0   0   1   0 756   2   0   0   2]\n",
      " [  1   1   3   1   2   0 758   0   1   0]\n",
      " [  0   1   0   1   1   0   0 654   2   2]\n",
      " [  1   3   4   2   2   1  10   5 591  12]\n",
      " [  2   1   0   0   2   2   0   4   5 686]]\n"
     ]
    },
    {
     "data": {
      "image/png": "[encoded data removed]",
      "text/plain": [
       "<matplotlib.figure.Figure at 0x7f500e8c02d0>"
      ]
     },
     "metadata": {},
     "output_type": "display_data"
    }
   ],
   "source": [
    "from sklearn.metrics import confusion_matrix\n",
    "a = range(10)\n",
    "cm = confusion_matrix(y_test1, y_pred)\n",
    "print(cm)\n",
    "fig = plt.figure()\n",
    "ax = fig.add_subplot(111)\n",
    "cax = ax.matshow(cm)\n",
    "plt.title('Confusion matrix of the classifier')\n",
    "fig.colorbar(cax)\n",
    "ax.set_xticklabels([''] + a)\n",
    "ax.set_yticklabels([''] + a)\n",
    "plt.xlabel('Predicted')\n",
    "plt.ylabel('True')\n",
    "plt.show()"
   ]
  },
  {
   "cell_type": "code",
   "execution_count": 84,
   "metadata": {
    "collapsed": false
   },
   "outputs": [
    {
     "ename": "AttributeError",
     "evalue": "'NoneType' object has no attribute 'output'",
     "output_type": "error",
     "traceback": [
      "\u001b[0;31m---------------------------------------------------------------------------\u001b[0m",
      "\u001b[0;31mAttributeError\u001b[0m                            Traceback (most recent call last)",
      "\u001b[0;32m<ipython-input-84-0d148a4e925b>\u001b[0m in \u001b[0;36m<module>\u001b[0;34m()\u001b[0m\n\u001b[1;32m      2\u001b[0m \u001b[0minputs\u001b[0m \u001b[0;34m=\u001b[0m \u001b[0;34m[\u001b[0m\u001b[0mK\u001b[0m\u001b[0;34m.\u001b[0m\u001b[0mlearning_phase\u001b[0m\u001b[0;34m(\u001b[0m\u001b[0;34m)\u001b[0m\u001b[0;34m]\u001b[0m \u001b[0;34m+\u001b[0m \u001b[0mmodel\u001b[0m\u001b[0;34m.\u001b[0m\u001b[0minputs\u001b[0m\u001b[0;34m\u001b[0m\u001b[0m\n\u001b[1;32m      3\u001b[0m \u001b[0;34m\u001b[0m\u001b[0m\n\u001b[0;32m----> 4\u001b[0;31m \u001b[0m_convout1_f\u001b[0m \u001b[0;34m=\u001b[0m \u001b[0mK\u001b[0m\u001b[0;34m.\u001b[0m\u001b[0mfunction\u001b[0m\u001b[0;34m(\u001b[0m\u001b[0minputs\u001b[0m\u001b[0;34m,\u001b[0m \u001b[0;34m[\u001b[0m\u001b[0mconv1\u001b[0m\u001b[0;34m.\u001b[0m\u001b[0moutput\u001b[0m\u001b[0;34m]\u001b[0m\u001b[0;34m)\u001b[0m\u001b[0;34m\u001b[0m\u001b[0m\n\u001b[0m\u001b[1;32m      5\u001b[0m \u001b[0;32mdef\u001b[0m \u001b[0mconvout1_f\u001b[0m\u001b[0;34m(\u001b[0m\u001b[0mX\u001b[0m\u001b[0;34m)\u001b[0m\u001b[0;34m:\u001b[0m\u001b[0;34m\u001b[0m\u001b[0m\n\u001b[1;32m      6\u001b[0m     \u001b[0;31m# The [0] is to disable the training phase flag\u001b[0m\u001b[0;34m\u001b[0m\u001b[0;34m\u001b[0m\u001b[0m\n",
      "\u001b[0;31mAttributeError\u001b[0m: 'NoneType' object has no attribute 'output'"
     ]
    }
   ],
   "source": [
    "from keras import backend as K\n",
    "inputs = [K.learning_phase()] + model.inputs\n",
    "\n",
    "_convout1_f = K.function(inputs, [conv1.output])\n",
    "def convout1_f(X):\n",
    "    # The [0] is to disable the training phase flag\n",
    "    return _convout1_f([0] + [X])\n",
    "\n"
   ]
  },
  {
   "cell_type": "code",
   "execution_count": 82,
   "metadata": {
    "collapsed": true
   },
   "outputs": [],
   "source": [
    "import numpy.ma as ma\n",
    "def make_mosaic(imgs, nrows, ncols, border=1):\n",
    "    \"\"\"\n",
    "    Given a set of images with all the same shape, makes a\n",
    "    mosaic with nrows and ncols\n",
    "    \"\"\"\n",
    "    nimgs = imgs.shape[0]\n",
    "    imshape = imgs.shape[1:]\n",
    "    \n",
    "    mosaic = ma.masked_all((nrows * imshape[0] + (nrows - 1) * border,\n",
    "                            ncols * imshape[1] + (ncols - 1) * border),\n",
    "                            dtype=np.float32)\n",
    "    \n",
    "    paddedh = imshape[0] + border\n",
    "    paddedw = imshape[1] + border\n",
    "    for i in xrange(nimgs):\n",
    "        row = int(np.floor(i / ncols))\n",
    "        col = i % ncols\n",
    "        \n",
    "        mosaic[row * paddedh:row * paddedh + imshape[0],\n",
    "               col * paddedw:col * paddedw + imshape[1]] = imgs[i]\n",
    "    return mosaic\n"
   ]
  },
  {
   "cell_type": "code",
   "execution_count": null,
   "metadata": {
    "collapsed": true
   },
   "outputs": [],
   "source": [
    "# Visualize weights\n",
    "W = model.layers[0].W.get_value(borrow=True)\n",
    "W = np.squeeze(W)\n",
    "print(\"W shape : \", W.shape)\n",
    "\n",
    "plt.figure(figsize=(15, 15))\n",
    "plt.title('conv1 weights')\n",
    "plt.imshow(pl.gca(), make_mosaic(W, 6, 6), cmap=cm.binary)\n",
    "\n"
   ]
  },
  {
   "cell_type": "code",
   "execution_count": null,
   "metadata": {
    "collapsed": true
   },
   "outputs": [],
   "source": [
    "http://machinelearningmastery.com/display-deep-learning-model-training-history-in-keras/"
   ]
  },
  {
   "cell_type": "code",
   "execution_count": 142,
   "metadata": {
    "collapsed": false
   },
   "outputs": [
    {
     "name": "stdout",
     "output_type": "stream",
     "text": [
      "['/home/mohammad/test_img_state/img_7847.jpg', '/home/mohammad/test_img_state/img_3084.jpg', '/home/mohammad/test_img_state/img_4407.jpg', '/home/mohammad/test_img_state/img_775.jpg', '/home/mohammad/test_img_state/img_10147.jpg', '/home/mohammad/test_img_state/img_6050.jpg', '/home/mohammad/test_img_state/img_5668.jpg', '/home/mohammad/test_img_state/img_1790.jpg', '/home/mohammad/test_img_state/img_3352.jpg', '/home/mohammad/test_img_state/img_1532.jpg']\n"
     ]
    }
   ],
   "source": [
    "import os, glob, math, cv2, time\n",
    "import numpy as np\n",
    "from skimage import io\n",
    "from joblib import Parallel, delayed\n",
    "import cPickle as pickle\n",
    "from skimage.transform import resize\n",
    "\n",
    "def resize_image(img_file):\n",
    "    img = cv2.imread(img_file,0)\n",
    "    img = cv2.resize(img, sz).astype('float32') / 255.0\n",
    "    return img\n",
    "img_size = 50\n",
    "sz = (img_size, img_size)\n",
    "\n",
    "ss =[]\n",
    "ss1=[]\n",
    "path = os.path.join('/home/mohammad/test_img_state','*.jpg')\n",
    "files = glob.glob(path)\n",
    "print(files)\n",
    "ss.extend(Parallel(n_jobs=3)(delayed(resize_image)(im_file) for im_file in files))\n",
    "#ss1.extend(len(files))"
   ]
  },
  {
   "cell_type": "code",
   "execution_count": 132,
   "metadata": {
    "collapsed": false
   },
   "outputs": [
    {
     "data": {
      "text/plain": [
       "(10, 50, 50)"
      ]
     },
     "execution_count": 132,
     "metadata": {},
     "output_type": "execute_result"
    }
   ],
   "source": [
    "ss= np.array(ss)\n",
    "ss.shape"
   ]
  },
  {
   "cell_type": "code",
   "execution_count": 134,
   "metadata": {
    "collapsed": false
   },
   "outputs": [
    {
     "data": {
      "text/plain": [
       "(10, 50, 50, 1)"
      ]
     },
     "execution_count": 134,
     "metadata": {},
     "output_type": "execute_result"
    }
   ],
   "source": [
    "ss= reformat(ss)\n",
    "ss.shape"
   ]
  },
  {
   "cell_type": "code",
   "execution_count": 138,
   "metadata": {
    "collapsed": false
   },
   "outputs": [
    {
     "name": "stdout",
     "output_type": "stream",
     "text": [
      "10/10 [==============================] - 0s\n",
      "10/10 [==============================] - 0s\n",
      "10/10 [==============================] - 0s\n"
     ]
    }
   ],
   "source": [
    "classes1 = model.predict_classes(ss, batch_size=32)\n",
    "proba1 = model.predict_proba(ss, batch_size=32)\n",
    "predictions_test1 = model.predict(ss, batch_size=128, verbose=1)\n"
   ]
  },
  {
   "cell_type": "code",
   "execution_count": 141,
   "metadata": {
    "collapsed": false
   },
   "outputs": [
    {
     "data": {
      "text/plain": [
       "array([5, 9, 3, 4, 9, 0, 1, 6, 2, 7])"
      ]
     },
     "execution_count": 141,
     "metadata": {},
     "output_type": "execute_result"
    }
   ],
   "source": [
    "predictions_test1 = np.argmax(predictions_test1, axis=1)\n",
    "predictions_test1"
   ]
  },
  {
   "cell_type": "code",
   "execution_count": null,
   "metadata": {
    "collapsed": true
   },
   "outputs": [],
   "source": []
  }
 ],
 "metadata": {
  "kernelspec": {
   "display_name": "Python 2",
   "language": "python",
   "name": "python2"
  },
  "language_info": {
   "codemirror_mode": {
    "name": "ipython",
    "version": 2
   },
   "file_extension": ".py",
   "mimetype": "text/x-python",
   "name": "python",
   "nbconvert_exporter": "python",
   "pygments_lexer": "ipython2",
   "version": "2.7.12"
  }
 },
 "nbformat": 4,
 "nbformat_minor": 1
}
