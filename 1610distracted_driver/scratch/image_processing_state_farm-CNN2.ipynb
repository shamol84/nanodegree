{
 "cells": [
  {
   "cell_type": "code",
   "execution_count": 1,
   "metadata": {
    "collapsed": false
   },
   "outputs": [],
   "source": [
    "import cPickle as pickle\n",
    "import numpy as np\n",
    "f = open('/home/mohammad/img_label.p','rb')\n",
    "label=pickle.load(f)\n",
    "f.close()\n",
    "\n",
    "f = open('/home/mohammad/img_data.p','rb')\n",
    "data=pickle.load(f)\n",
    "f.close()"
   ]
  },
  {
   "cell_type": "code",
   "execution_count": 2,
   "metadata": {
    "collapsed": false
   },
   "outputs": [
    {
     "data": {
      "text/plain": [
       "((22424,), (22424, 50, 50))"
      ]
     },
     "execution_count": 2,
     "metadata": {},
     "output_type": "execute_result"
    }
   ],
   "source": [
    "label.shape, data.shape"
   ]
  },
  {
   "cell_type": "code",
   "execution_count": 4,
   "metadata": {
    "collapsed": false,
    "scrolled": true
   },
   "outputs": [
    {
     "name": "stdout",
     "output_type": "stream",
     "text": [
      "('TRAIN:', array([ 7847,  5892, 14740, ...,  9417, 15291, 21710]), 'TEST:', array([19333,   164, 18740, ..., 19430, 10352,  9113]))\n",
      "('TRAIN:', array([ 3927,  1771,  6437, ..., 12229, 10047,  1140]), 'TEST:', array([12453, 14500, 14834, ...,  3847,  3098,  8061]))\n",
      "(12019, 50, 50) (3005, 50, 50) (7400, 50, 50) (7400,) (12019,)\n"
     ]
    }
   ],
   "source": [
    "from sklearn.model_selection import StratifiedShuffleSplit\n",
    "s = StratifiedShuffleSplit(n_splits=1, test_size=0.33, random_state=0)\n",
    "for train_index, test_index in s.split(data,label):\n",
    "    print(\"TRAIN:\", train_index, \"TEST:\", test_index)\n",
    "    X_train1, X_test = data[train_index], data[test_index]\n",
    "    y_train1, y_test = label[train_index], label[test_index]\n",
    "    \n",
    "s = StratifiedShuffleSplit(n_splits=1, test_size=0.2, random_state=0)\n",
    "for train_index, test_index in s.split(X_train1,y_train1):\n",
    "    print(\"TRAIN:\", train_index, \"TEST:\", test_index)\n",
    "    X_train, X_valid = X_train1[train_index], X_train1[test_index]\n",
    "    y_train, y_valid = y_train1[train_index], y_train1[test_index]\n",
    "    \n",
    "#X_train1, X_test, y_train1, y_test = StratifiedShuffleSplit(data, label,test_size=0.33, random_state=42)\n",
    "#X_train, X_valid, y_train, y_valid = train_test_split(X_train1, y_train1,test_size=0.2, random_state=42)\n",
    "print X_train.shape,X_valid.shape, X_test.shape,y_test.shape,y_train.shape"
   ]
  },
  {
   "cell_type": "code",
   "execution_count": 5,
   "metadata": {
    "collapsed": true
   },
   "outputs": [],
   "source": [
    "import tensorflow as tf\n",
    "import sys"
   ]
  },
  {
   "cell_type": "code",
   "execution_count": 6,
   "metadata": {
    "collapsed": false
   },
   "outputs": [
    {
     "name": "stderr",
     "output_type": "stream",
     "text": [
      "Using TensorFlow backend.\n"
     ]
    }
   ],
   "source": [
    "sys.path.append('/home/mohammad/anaconda/lib/python2.7/site-packages')\n",
    "import keras\n",
    "from keras.utils import np_utils"
   ]
  },
  {
   "cell_type": "code",
   "execution_count": 7,
   "metadata": {
    "collapsed": false
   },
   "outputs": [
    {
     "name": "stdout",
     "output_type": "stream",
     "text": [
      "('Training set', (12019, 50, 50, 1))\n",
      "('Validation set', (3005, 50, 50, 1))\n"
     ]
    }
   ],
   "source": [
    "image_size=50\n",
    "num_labels=10\n",
    "def reformat(dataset1):\n",
    "    dataset1 = dataset1.reshape(dataset1.shape[0], image_size, image_size,1).astype(np.float32)\n",
    "    #dataset2 = dataset2.reshape(dataset2.shape[0], 1, image_size, image_size)\n",
    "    #dataset = dataset.reshape((-1, image_size * image_size)).astype(np.float32)\n",
    "    # Map 0 to [1.0, 0.0, 0.0 ...], 1 to [0.0, 1.0, 0.0 ...]\n",
    "    #labels = (np.arange(num_labels) == labels[:,None]).astype(np.float32)\n",
    "    #labels = labels.reshape((-1,10))\n",
    "    return dataset1\n",
    "X_train = reformat(X_train)\n",
    "X_valid = reformat(X_valid)\n",
    "X_test = reformat(X_test)\n",
    "print('Training set', X_train.shape)\n",
    "print('Validation set', X_valid.shape)\n",
    "#print('Test set', test_dataset.shape, test_labels.shape)"
   ]
  },
  {
   "cell_type": "code",
   "execution_count": 8,
   "metadata": {
    "collapsed": false
   },
   "outputs": [
    {
     "name": "stdout",
     "output_type": "stream",
     "text": [
      "('Training set', (12019, 10))\n",
      "('Validation set', (3005, 10))\n"
     ]
    }
   ],
   "source": [
    "y_train = np_utils.to_categorical(y_train, num_labels)\n",
    "y_test = np_utils.to_categorical(y_test, num_labels)\n",
    "y_valid = np_utils.to_categorical(y_valid, num_labels)\n",
    "print('Training set', y_train.shape)\n",
    "print('Validation set',y_valid.shape)"
   ]
  },
  {
   "cell_type": "code",
   "execution_count": 9,
   "metadata": {
    "collapsed": true
   },
   "outputs": [],
   "source": [
    "# input image dimensions\n",
    "img_rows, img_cols = 50,50\n",
    "# number of convolutional filters to use\n",
    "nb_filters = 32\n",
    "# size of pooling area for max pooling\n",
    "pool_size = (3, 3)\n",
    "# convolution kernel size\n",
    "kernel_size = (5, 5)\n",
    "nb_classes = 10\n",
    "input_shape = (img_rows, img_cols,1) ##this is tf backend, for theano (1,50,50)"
   ]
  },
  {
   "cell_type": "code",
   "execution_count": 10,
   "metadata": {
    "collapsed": false
   },
   "outputs": [],
   "source": [
    "from keras.models import Sequential\n",
    "from keras.layers import Dense, Dropout, Activation, Flatten\n",
    "from keras.layers import Convolution2D, MaxPooling2D\n",
    "from keras.utils import np_utils\n",
    "#from keras import backend as K\n",
    "\n",
    "\n",
    "model = Sequential()\n",
    "\n",
    "model.add(Convolution2D(nb_filters, kernel_size[0], kernel_size[1],\n",
    "                        border_mode='valid',\n",
    "                        input_shape=input_shape))\n",
    "conv1=model.add(Activation('relu'))\n",
    "model.add(Dropout(0.2))\n",
    "model.add(Convolution2D(nb_filters, kernel_size[0], kernel_size[1]))\n",
    "model.add(Activation('relu'))\n",
    "model.add(MaxPooling2D(pool_size=pool_size))\n",
    "model.add(Dropout(0.2))\n",
    "\n",
    "model.add(Flatten())\n",
    "model.add(Dense(128))\n",
    "model.add(Activation('relu'))\n",
    "model.add(Dropout(0.5))\n",
    "model.add(Dense(nb_classes))\n",
    "model.add(Activation('softmax'))\n",
    "\n",
    "\n",
    "\n",
    "model.compile(loss='categorical_crossentropy', optimizer='sgd', metrics=['accuracy'])"
   ]
  },
  {
   "cell_type": "code",
   "execution_count": 11,
   "metadata": {
    "collapsed": false
   },
   "outputs": [
    {
     "name": "stdout",
     "output_type": "stream",
     "text": [
      "____________________________________________________________________________________________________\n",
      "Layer (type)                     Output Shape          Param #     Connected to                     \n",
      "====================================================================================================\n",
      "convolution2d_1 (Convolution2D)  (None, 46, 46, 32)    832         convolution2d_input_1[0][0]      \n",
      "____________________________________________________________________________________________________\n",
      "activation_1 (Activation)        (None, 46, 46, 32)    0           convolution2d_1[0][0]            \n",
      "____________________________________________________________________________________________________\n",
      "dropout_1 (Dropout)              (None, 46, 46, 32)    0           activation_1[0][0]               \n",
      "____________________________________________________________________________________________________\n",
      "convolution2d_2 (Convolution2D)  (None, 42, 42, 32)    25632       dropout_1[0][0]                  \n",
      "____________________________________________________________________________________________________\n",
      "activation_2 (Activation)        (None, 42, 42, 32)    0           convolution2d_2[0][0]            \n",
      "____________________________________________________________________________________________________\n",
      "maxpooling2d_1 (MaxPooling2D)    (None, 14, 14, 32)    0           activation_2[0][0]               \n",
      "____________________________________________________________________________________________________\n",
      "dropout_2 (Dropout)              (None, 14, 14, 32)    0           maxpooling2d_1[0][0]             \n",
      "____________________________________________________________________________________________________\n",
      "flatten_1 (Flatten)              (None, 6272)          0           dropout_2[0][0]                  \n",
      "____________________________________________________________________________________________________\n",
      "dense_1 (Dense)                  (None, 128)           802944      flatten_1[0][0]                  \n",
      "____________________________________________________________________________________________________\n",
      "activation_3 (Activation)        (None, 128)           0           dense_1[0][0]                    \n",
      "____________________________________________________________________________________________________\n",
      "dropout_3 (Dropout)              (None, 128)           0           activation_3[0][0]               \n",
      "____________________________________________________________________________________________________\n",
      "dense_2 (Dense)                  (None, 10)            1290        dropout_3[0][0]                  \n",
      "____________________________________________________________________________________________________\n",
      "activation_4 (Activation)        (None, 10)            0           dense_2[0][0]                    \n",
      "====================================================================================================\n",
      "Total params: 830698\n",
      "____________________________________________________________________________________________________\n"
     ]
    }
   ],
   "source": [
    "model.summary()"
   ]
  },
  {
   "cell_type": "code",
   "execution_count": 12,
   "metadata": {
    "collapsed": false
   },
   "outputs": [
    {
     "name": "stdout",
     "output_type": "stream",
     "text": [
      "Train on 12019 samples, validate on 3005 samples\n",
      "Epoch 1/50\n",
      "12019/12019 [==============================] - 188s - loss: 2.2861 - acc: 0.1340 - val_loss: 2.2391 - val_acc: 0.1963\n",
      "Epoch 2/50\n",
      "12019/12019 [==============================] - 185s - loss: 2.1558 - acc: 0.2178 - val_loss: 1.9106 - val_acc: 0.3498\n",
      "Epoch 3/50\n",
      "12019/12019 [==============================] - 199s - loss: 1.8511 - acc: 0.3360 - val_loss: 1.5306 - val_acc: 0.5151\n",
      "Epoch 4/50\n",
      "12019/12019 [==============================] - 191s - loss: 1.5092 - acc: 0.4727 - val_loss: 1.1804 - val_acc: 0.6549\n",
      "Epoch 5/50\n",
      "12019/12019 [==============================] - 180s - loss: 1.2055 - acc: 0.5875 - val_loss: 0.8177 - val_acc: 0.7777\n",
      "Epoch 6/50\n",
      "12019/12019 [==============================] - 166s - loss: 0.9516 - acc: 0.6756 - val_loss: 0.5770 - val_acc: 0.8646\n",
      "Epoch 7/50\n",
      "12019/12019 [==============================] - 167s - loss: 0.7486 - acc: 0.7507 - val_loss: 0.3951 - val_acc: 0.8982\n",
      "Epoch 8/50\n",
      "12019/12019 [==============================] - 167s - loss: 0.6201 - acc: 0.7942 - val_loss: 0.3169 - val_acc: 0.9211\n",
      "Epoch 9/50\n",
      "12019/12019 [==============================] - 166s - loss: 0.5265 - acc: 0.8298 - val_loss: 0.2419 - val_acc: 0.9481\n",
      "Epoch 10/50\n",
      "12019/12019 [==============================] - 165s - loss: 0.4565 - acc: 0.8542 - val_loss: 0.1979 - val_acc: 0.9577\n",
      "Epoch 11/50\n",
      "12019/12019 [==============================] - 165s - loss: 0.4033 - acc: 0.8750 - val_loss: 0.1647 - val_acc: 0.9591\n",
      "Epoch 12/50\n",
      "12019/12019 [==============================] - 165s - loss: 0.3637 - acc: 0.8842 - val_loss: 0.1558 - val_acc: 0.9594\n",
      "Epoch 13/50\n",
      "12019/12019 [==============================] - 165s - loss: 0.3251 - acc: 0.8987 - val_loss: 0.1264 - val_acc: 0.9674\n",
      "Epoch 14/50\n",
      "12019/12019 [==============================] - 165s - loss: 0.2932 - acc: 0.9077 - val_loss: 0.1090 - val_acc: 0.9754\n",
      "Epoch 15/50\n",
      "12019/12019 [==============================] - 165s - loss: 0.2721 - acc: 0.9151 - val_loss: 0.1003 - val_acc: 0.9767\n",
      "Epoch 16/50\n",
      "12019/12019 [==============================] - 165s - loss: 0.2441 - acc: 0.9251 - val_loss: 0.1011 - val_acc: 0.9754\n",
      "Epoch 17/50\n",
      "12019/12019 [==============================] - 165s - loss: 0.2319 - acc: 0.9281 - val_loss: 0.0861 - val_acc: 0.9787\n",
      "Epoch 18/50\n",
      "12019/12019 [==============================] - 165s - loss: 0.2152 - acc: 0.9319 - val_loss: 0.0881 - val_acc: 0.9770\n",
      "Epoch 19/50\n",
      "12019/12019 [==============================] - 165s - loss: 0.1930 - acc: 0.9387 - val_loss: 0.0739 - val_acc: 0.9800\n",
      "Epoch 20/50\n",
      "12019/12019 [==============================] - 165s - loss: 0.1877 - acc: 0.9390 - val_loss: 0.0729 - val_acc: 0.9834\n",
      "Epoch 21/50\n",
      "12019/12019 [==============================] - 165s - loss: 0.1786 - acc: 0.9402 - val_loss: 0.0664 - val_acc: 0.9850\n",
      "Epoch 22/50\n",
      "12019/12019 [==============================] - 165s - loss: 0.1667 - acc: 0.9489 - val_loss: 0.0588 - val_acc: 0.9850\n",
      "Epoch 23/50\n",
      "12019/12019 [==============================] - 166s - loss: 0.1556 - acc: 0.9480 - val_loss: 0.0645 - val_acc: 0.9844\n",
      "Epoch 24/50\n",
      "12019/12019 [==============================] - 166s - loss: 0.1470 - acc: 0.9521 - val_loss: 0.0584 - val_acc: 0.9854\n",
      "Epoch 25/50\n",
      "12019/12019 [==============================] - 166s - loss: 0.1382 - acc: 0.9556 - val_loss: 0.0575 - val_acc: 0.9857\n",
      "Epoch 26/50\n",
      "12019/12019 [==============================] - 166s - loss: 0.1337 - acc: 0.9557 - val_loss: 0.0608 - val_acc: 0.9850\n",
      "Epoch 27/50\n",
      "12019/12019 [==============================] - 165s - loss: 0.1226 - acc: 0.9586 - val_loss: 0.0541 - val_acc: 0.9890\n",
      "Epoch 28/50\n",
      "12019/12019 [==============================] - 165s - loss: 0.1255 - acc: 0.9598 - val_loss: 0.0563 - val_acc: 0.9847\n",
      "Epoch 29/50\n",
      "12019/12019 [==============================] - 165s - loss: 0.1232 - acc: 0.9616 - val_loss: 0.0522 - val_acc: 0.9867\n",
      "Epoch 30/50\n",
      "12019/12019 [==============================] - 166s - loss: 0.1094 - acc: 0.9651 - val_loss: 0.0469 - val_acc: 0.9884\n",
      "Epoch 31/50\n",
      "12019/12019 [==============================] - 165s - loss: 0.1066 - acc: 0.9642 - val_loss: 0.0510 - val_acc: 0.9884\n",
      "Epoch 32/50\n",
      "12019/12019 [==============================] - 165s - loss: 0.1040 - acc: 0.9659 - val_loss: 0.0458 - val_acc: 0.9894\n",
      "Epoch 33/50\n",
      "12019/12019 [==============================] - 165s - loss: 0.1026 - acc: 0.9667 - val_loss: 0.0470 - val_acc: 0.9890\n",
      "Epoch 34/50\n",
      "12019/12019 [==============================] - 165s - loss: 0.0979 - acc: 0.9663 - val_loss: 0.0440 - val_acc: 0.9903\n",
      "Epoch 35/50\n",
      "12019/12019 [==============================] - 165s - loss: 0.0864 - acc: 0.9720 - val_loss: 0.0433 - val_acc: 0.9884\n",
      "Epoch 36/50\n",
      "12019/12019 [==============================] - 165s - loss: 0.0929 - acc: 0.9684 - val_loss: 0.0442 - val_acc: 0.9894\n",
      "Epoch 37/50\n",
      "12019/12019 [==============================] - 165s - loss: 0.0847 - acc: 0.9713 - val_loss: 0.0425 - val_acc: 0.9900\n",
      "Epoch 38/50\n",
      "12019/12019 [==============================] - 165s - loss: 0.0812 - acc: 0.9732 - val_loss: 0.0434 - val_acc: 0.9897\n",
      "Epoch 39/50\n",
      "12019/12019 [==============================] - 165s - loss: 0.0779 - acc: 0.9750 - val_loss: 0.0476 - val_acc: 0.9903\n",
      "Epoch 40/50\n",
      "12019/12019 [==============================] - 166s - loss: 0.0772 - acc: 0.9730 - val_loss: 0.0421 - val_acc: 0.9907\n",
      "Epoch 41/50\n",
      "12019/12019 [==============================] - 166s - loss: 0.0760 - acc: 0.9764 - val_loss: 0.0411 - val_acc: 0.9903\n",
      "Epoch 42/50\n",
      "12019/12019 [==============================] - 166s - loss: 0.0761 - acc: 0.9743 - val_loss: 0.0429 - val_acc: 0.9897\n",
      "Epoch 43/50\n",
      "12019/12019 [==============================] - 165s - loss: 0.0678 - acc: 0.9765 - val_loss: 0.0404 - val_acc: 0.9900\n",
      "Epoch 44/50\n",
      "12019/12019 [==============================] - 166s - loss: 0.0741 - acc: 0.9756 - val_loss: 0.0390 - val_acc: 0.9910\n",
      "Epoch 45/50\n",
      "12019/12019 [==============================] - 165s - loss: 0.0685 - acc: 0.9765 - val_loss: 0.0377 - val_acc: 0.9910\n",
      "Epoch 46/50\n",
      "12019/12019 [==============================] - 166s - loss: 0.0720 - acc: 0.9758 - val_loss: 0.0386 - val_acc: 0.9907\n",
      "Epoch 47/50\n",
      "12019/12019 [==============================] - 166s - loss: 0.0673 - acc: 0.9772 - val_loss: 0.0384 - val_acc: 0.9900\n",
      "Epoch 48/50\n",
      "12019/12019 [==============================] - 165s - loss: 0.0635 - acc: 0.9788 - val_loss: 0.0389 - val_acc: 0.9910\n",
      "Epoch 49/50\n",
      "12019/12019 [==============================] - 165s - loss: 0.0593 - acc: 0.9798 - val_loss: 0.0411 - val_acc: 0.9920\n",
      "Epoch 50/50\n",
      "12019/12019 [==============================] - 166s - loss: 0.0609 - acc: 0.9794 - val_loss: 0.0396 - val_acc: 0.9903\n"
     ]
    }
   ],
   "source": [
    "#model.compile(loss='binary_crossentropy', optimizer='adam', metrics=['accuracy'])\n",
    "# Fit the model\n",
    "history = model.fit(X_train, y_train, validation_data=(X_valid, y_valid), nb_epoch=50, batch_size=32,verbose=1)"
   ]
  },
  {
   "cell_type": "code",
   "execution_count": 13,
   "metadata": {
    "collapsed": false
   },
   "outputs": [
    {
     "name": "stdout",
     "output_type": "stream",
     "text": [
      "3005/3005 [==============================] - 13s    \n",
      "('Score log_loss: ', 0.039638606973544363)\n"
     ]
    }
   ],
   "source": [
    "from sklearn.metrics import log_loss\n",
    "predictions_valid = model.predict(X_valid, batch_size=128, verbose=1)\n",
    "score = log_loss(y_valid, predictions_valid)\n",
    "print('Score log_loss: ', score)"
   ]
  },
  {
   "cell_type": "code",
   "execution_count": 14,
   "metadata": {
    "collapsed": false
   },
   "outputs": [
    {
     "name": "stdout",
     "output_type": "stream",
     "text": [
      "7400/7400 [==============================] - 33s    \n",
      "7400/7400 [==============================] - 34s    \n",
      "7400/7400 [==============================] - 34s    \n",
      "('Score log_loss: ', 0.048141925995202957)\n"
     ]
    }
   ],
   "source": [
    "classes = model.predict_classes(X_test, batch_size=32)\n",
    "proba = model.predict_proba(X_test, batch_size=32)\n",
    "predictions_test = model.predict(X_test, batch_size=128, verbose=1)\n",
    "score = log_loss(y_test, predictions_test)\n",
    "print('Score log_loss: ', score)"
   ]
  },
  {
   "cell_type": "code",
   "execution_count": 15,
   "metadata": {
    "collapsed": false
   },
   "outputs": [
    {
     "name": "stdout",
     "output_type": "stream",
     "text": [
      "('Test score:', 0.048141937383538669)\n",
      "('Test accuracy:', 0.98797297297297293)\n"
     ]
    }
   ],
   "source": [
    "score = model.evaluate(X_test, y_test, verbose=0)\n",
    "print('Test score:', score[0])\n",
    "print('Test accuracy:', score[1])"
   ]
  },
  {
   "cell_type": "code",
   "execution_count": 79,
   "metadata": {
    "collapsed": false
   },
   "outputs": [
    {
     "data": {
      "text/plain": [
       "array([ 1.,  0.,  0.,  0.,  0.,  0.,  0.,  0.,  0.,  0.])"
      ]
     },
     "execution_count": 79,
     "metadata": {},
     "output_type": "execute_result"
    }
   ],
   "source": [
    "y_test[1]"
   ]
  },
  {
   "cell_type": "code",
   "execution_count": 29,
   "metadata": {
    "collapsed": false
   },
   "outputs": [
    {
     "name": "stdout",
     "output_type": "stream",
     "text": [
      "['acc', 'loss', 'val_acc', 'val_loss']\n"
     ]
    },
    {
     "data": {
      "image/png": "[encoded data removed]",
      "text/plain": [
       "<matplotlib.figure.Figure at 0x7f3b9ea9dd50>"
      ]
     },
     "metadata": {},
     "output_type": "display_data"
    }
   ],
   "source": [
    "import matplotlib.pyplot as plt\n",
    "# list all data in history\n",
    "print(history.history.keys())\n",
    "# summarize history for accuracy\n",
    "plt.plot(history.history['acc'])\n",
    "plt.plot(history.history['val_acc'])\n",
    "plt.ylim(0,1.05)\n",
    "plt.title('Model Accuracy')\n",
    "plt.ylabel('Accuracy')\n",
    "plt.xlabel('Epoch')\n",
    "plt.legend(['Train', 'Validation'], loc='lower right')\n",
    "#\n",
    "plt.show()\n",
    "#plt.savefig('/home/mohammad/model_accuracy1.png',dpi=300)\n"
   ]
  },
  {
   "cell_type": "code",
   "execution_count": 31,
   "metadata": {
    "collapsed": false
   },
   "outputs": [
    {
     "data": {
      "image/png": "[encoded data removed]",
      "text/plain": [
       "<matplotlib.figure.Figure at 0x7f3b956565d0>"
      ]
     },
     "metadata": {},
     "output_type": "display_data"
    }
   ],
   "source": [
    "import matplotlib.pyplot as plt\n",
    "# summarize history for loss\n",
    "plt.plot(history.history['loss'])\n",
    "plt.plot(history.history['val_loss'])\n",
    "plt.title('Model loss')\n",
    "plt.ylim(-0.05,3)\n",
    "plt.ylabel('Loss')\n",
    "plt.xlabel('Epoch')\n",
    "plt.legend(['Train', 'Validation'], loc='upper right')\n",
    "plt.show()\n",
    "#plt.savefig('/home/mohammad/model_loss1.png',dpi=300)"
   ]
  },
  {
   "cell_type": "code",
   "execution_count": 17,
   "metadata": {
    "collapsed": false
   },
   "outputs": [
    {
     "data": {
      "text/plain": [
       "array([ 0.,  0.,  0.,  0.,  0.,  1.,  0.,  0.,  0.,  0.], dtype=float32)"
      ]
     },
     "execution_count": 17,
     "metadata": {},
     "output_type": "execute_result"
    }
   ],
   "source": [
    "np.round(predictions_test[0],1)"
   ]
  },
  {
   "cell_type": "code",
   "execution_count": 63,
   "metadata": {
    "collapsed": false
   },
   "outputs": [
    {
     "data": {
      "image/png": "[encoded data removed]",
      "text/plain": [
       "<matplotlib.figure.Figure at 0x7f500edf6390>"
      ]
     },
     "metadata": {},
     "output_type": "display_data"
    }
   ],
   "source": [
    "import matplotlib.cm as cm\n",
    "i = 1600\n",
    "a = X_test[i]\n",
    "a = a.reshape(1,50,50)\n",
    "plt.imshow(X_test[i, 0], interpolation='nearest',cmap= cm.binary)\n",
    "plt.show()\n",
    "#a.shape"
   ]
  },
  {
   "cell_type": "code",
   "execution_count": 32,
   "metadata": {
    "collapsed": false
   },
   "outputs": [
    {
     "name": "stdout",
     "output_type": "stream",
     "text": [
      "             precision    recall  f1-score   support\n",
      "\n",
      "          0       0.98      0.99      0.98       821\n",
      "          1       0.99      1.00      0.99       748\n",
      "          2       0.98      0.99      0.99       765\n",
      "          3       0.99      0.99      0.99       774\n",
      "          4       1.00      0.98      0.99       768\n",
      "          5       1.00      1.00      1.00       763\n",
      "          6       0.98      0.99      0.99       767\n",
      "          7       0.99      0.99      0.99       661\n",
      "          8       0.98      0.98      0.98       631\n",
      "          9       0.99      0.98      0.98       702\n",
      "\n",
      "avg / total       0.99      0.99      0.99      7400\n",
      "\n"
     ]
    }
   ],
   "source": [
    "from sklearn.metrics import classification_report\n",
    "y_pred = np.argmax(predictions_test, axis=1)\n",
    "y_test1 = np.argmax(y_test,axis=1)\n",
    "print(classification_report(y_test1, y_pred))\n",
    "\n"
   ]
  },
  {
   "cell_type": "code",
   "execution_count": 34,
   "metadata": {
    "collapsed": false
   },
   "outputs": [
    {
     "name": "stdout",
     "output_type": "stream",
     "text": [
      "[[811   3   1   2   0   1   0   1   0   2]\n",
      " [  1 745   0   0   0   0   0   0   1   1]\n",
      " [  0   1 756   0   0   0   6   1   1   0]\n",
      " [  2   1   0 770   1   0   0   0   0   0]\n",
      " [  2   1   0   8 755   0   0   0   1   1]\n",
      " [  1   0   0   0   1 760   0   1   0   0]\n",
      " [  1   2   6   0   0   0 756   0   2   0]\n",
      " [  0   1   3   0   0   0   1 653   3   0]\n",
      " [  2   0   2   0   0   0   5   0 616   6]\n",
      " [  6   1   0   1   1   0   0   2   2 689]]\n"
     ]
    }
   ],
   "source": [
    "from sklearn.metrics import confusion_matrix\n",
    "a = range(10)\n",
    "cm = confusion_matrix(y_test1, y_pred)\n",
    "print(cm)\n",
    "fig = plt.figure()\n",
    "ax = fig.add_subplot(111)\n",
    "cax = ax.matshow(cm)\n",
    "plt.title('Confusion matrix of the classifier')\n",
    "fig.colorbar(cax)\n",
    "ax.set_xticklabels([''] + a)\n",
    "ax.set_yticklabels([''] + a)\n",
    "plt.xlabel('Predicted')\n",
    "plt.ylabel('True')\n",
    "#plt.show()\n",
    "plt.savefig('/home/mohammad/confusion_matrix1.png',dpi=300)"
   ]
  },
  {
   "cell_type": "code",
   "execution_count": 84,
   "metadata": {
    "collapsed": false
   },
   "outputs": [
    {
     "ename": "AttributeError",
     "evalue": "'NoneType' object has no attribute 'output'",
     "output_type": "error",
     "traceback": [
      "\u001b[0;31m---------------------------------------------------------------------------\u001b[0m",
      "\u001b[0;31mAttributeError\u001b[0m                            Traceback (most recent call last)",
      "\u001b[0;32m<ipython-input-84-0d148a4e925b>\u001b[0m in \u001b[0;36m<module>\u001b[0;34m()\u001b[0m\n\u001b[1;32m      2\u001b[0m \u001b[0minputs\u001b[0m \u001b[0;34m=\u001b[0m \u001b[0;34m[\u001b[0m\u001b[0mK\u001b[0m\u001b[0;34m.\u001b[0m\u001b[0mlearning_phase\u001b[0m\u001b[0;34m(\u001b[0m\u001b[0;34m)\u001b[0m\u001b[0;34m]\u001b[0m \u001b[0;34m+\u001b[0m \u001b[0mmodel\u001b[0m\u001b[0;34m.\u001b[0m\u001b[0minputs\u001b[0m\u001b[0;34m\u001b[0m\u001b[0m\n\u001b[1;32m      3\u001b[0m \u001b[0;34m\u001b[0m\u001b[0m\n\u001b[0;32m----> 4\u001b[0;31m \u001b[0m_convout1_f\u001b[0m \u001b[0;34m=\u001b[0m \u001b[0mK\u001b[0m\u001b[0;34m.\u001b[0m\u001b[0mfunction\u001b[0m\u001b[0;34m(\u001b[0m\u001b[0minputs\u001b[0m\u001b[0;34m,\u001b[0m \u001b[0;34m[\u001b[0m\u001b[0mconv1\u001b[0m\u001b[0;34m.\u001b[0m\u001b[0moutput\u001b[0m\u001b[0;34m]\u001b[0m\u001b[0;34m)\u001b[0m\u001b[0;34m\u001b[0m\u001b[0m\n\u001b[0m\u001b[1;32m      5\u001b[0m \u001b[0;32mdef\u001b[0m \u001b[0mconvout1_f\u001b[0m\u001b[0;34m(\u001b[0m\u001b[0mX\u001b[0m\u001b[0;34m)\u001b[0m\u001b[0;34m:\u001b[0m\u001b[0;34m\u001b[0m\u001b[0m\n\u001b[1;32m      6\u001b[0m     \u001b[0;31m# The [0] is to disable the training phase flag\u001b[0m\u001b[0;34m\u001b[0m\u001b[0;34m\u001b[0m\u001b[0m\n",
      "\u001b[0;31mAttributeError\u001b[0m: 'NoneType' object has no attribute 'output'"
     ]
    }
   ],
   "source": [
    "from keras import backend as K\n",
    "inputs = [K.learning_phase()] + model.inputs\n",
    "\n",
    "_convout1_f = K.function(inputs, [conv1.output])\n",
    "def convout1_f(X):\n",
    "    # The [0] is to disable the training phase flag\n",
    "    return _convout1_f([0] + [X])\n",
    "\n"
   ]
  },
  {
   "cell_type": "code",
   "execution_count": 82,
   "metadata": {
    "collapsed": true
   },
   "outputs": [],
   "source": [
    "import numpy.ma as ma\n",
    "def make_mosaic(imgs, nrows, ncols, border=1):\n",
    "    \"\"\"\n",
    "    Given a set of images with all the same shape, makes a\n",
    "    mosaic with nrows and ncols\n",
    "    \"\"\"\n",
    "    nimgs = imgs.shape[0]\n",
    "    imshape = imgs.shape[1:]\n",
    "    \n",
    "    mosaic = ma.masked_all((nrows * imshape[0] + (nrows - 1) * border,\n",
    "                            ncols * imshape[1] + (ncols - 1) * border),\n",
    "                            dtype=np.float32)\n",
    "    \n",
    "    paddedh = imshape[0] + border\n",
    "    paddedw = imshape[1] + border\n",
    "    for i in xrange(nimgs):\n",
    "        row = int(np.floor(i / ncols))\n",
    "        col = i % ncols\n",
    "        \n",
    "        mosaic[row * paddedh:row * paddedh + imshape[0],\n",
    "               col * paddedw:col * paddedw + imshape[1]] = imgs[i]\n",
    "    return mosaic\n"
   ]
  },
  {
   "cell_type": "code",
   "execution_count": null,
   "metadata": {
    "collapsed": true
   },
   "outputs": [],
   "source": [
    "# Visualize weights\n",
    "W = model.layers[0].W.get_value(borrow=True)\n",
    "W = np.squeeze(W)\n",
    "print(\"W shape : \", W.shape)\n",
    "\n",
    "plt.figure(figsize=(15, 15))\n",
    "plt.title('conv1 weights')\n",
    "plt.imshow(pl.gca(), make_mosaic(W, 6, 6), cmap=cm.binary)\n",
    "\n"
   ]
  },
  {
   "cell_type": "code",
   "execution_count": null,
   "metadata": {
    "collapsed": true
   },
   "outputs": [],
   "source": [
    "http://machinelearningmastery.com/display-deep-learning-model-training-history-in-keras/"
   ]
  },
  {
   "cell_type": "code",
   "execution_count": 142,
   "metadata": {
    "collapsed": false
   },
   "outputs": [
    {
     "name": "stdout",
     "output_type": "stream",
     "text": [
      "['/home/mohammad/test_img_state/img_7847.jpg', '/home/mohammad/test_img_state/img_3084.jpg', '/home/mohammad/test_img_state/img_4407.jpg', '/home/mohammad/test_img_state/img_775.jpg', '/home/mohammad/test_img_state/img_10147.jpg', '/home/mohammad/test_img_state/img_6050.jpg', '/home/mohammad/test_img_state/img_5668.jpg', '/home/mohammad/test_img_state/img_1790.jpg', '/home/mohammad/test_img_state/img_3352.jpg', '/home/mohammad/test_img_state/img_1532.jpg']\n"
     ]
    }
   ],
   "source": [
    "import os, glob, math, cv2, time\n",
    "import numpy as np\n",
    "from skimage import io\n",
    "from joblib import Parallel, delayed\n",
    "import cPickle as pickle\n",
    "from skimage.transform import resize\n",
    "\n",
    "def resize_image(img_file):\n",
    "    img = cv2.imread(img_file,0)\n",
    "    img = cv2.resize(img, sz).astype('float32') / 255.0\n",
    "    return img\n",
    "img_size = 50\n",
    "sz = (img_size, img_size)\n",
    "\n",
    "ss =[]\n",
    "ss1=[]\n",
    "path = os.path.join('/home/mohammad/test_img_state','*.jpg')\n",
    "files = glob.glob(path)\n",
    "print(files)\n",
    "ss.extend(Parallel(n_jobs=3)(delayed(resize_image)(im_file) for im_file in files))\n",
    "#ss1.extend(len(files))"
   ]
  },
  {
   "cell_type": "code",
   "execution_count": 132,
   "metadata": {
    "collapsed": false
   },
   "outputs": [
    {
     "data": {
      "text/plain": [
       "(10, 50, 50)"
      ]
     },
     "execution_count": 132,
     "metadata": {},
     "output_type": "execute_result"
    }
   ],
   "source": [
    "ss= np.array(ss)\n",
    "ss.shape"
   ]
  },
  {
   "cell_type": "code",
   "execution_count": 134,
   "metadata": {
    "collapsed": false
   },
   "outputs": [
    {
     "data": {
      "text/plain": [
       "(10, 50, 50, 1)"
      ]
     },
     "execution_count": 134,
     "metadata": {},
     "output_type": "execute_result"
    }
   ],
   "source": [
    "ss= reformat(ss)\n",
    "ss.shape"
   ]
  },
  {
   "cell_type": "code",
   "execution_count": 138,
   "metadata": {
    "collapsed": false
   },
   "outputs": [
    {
     "name": "stdout",
     "output_type": "stream",
     "text": [
      "10/10 [==============================] - 0s\n",
      "10/10 [==============================] - 0s\n",
      "10/10 [==============================] - 0s\n"
     ]
    }
   ],
   "source": [
    "classes1 = model.predict_classes(ss, batch_size=32)\n",
    "proba1 = model.predict_proba(ss, batch_size=32)\n",
    "predictions_test1 = model.predict(ss, batch_size=128, verbose=1)\n"
   ]
  },
  {
   "cell_type": "code",
   "execution_count": 141,
   "metadata": {
    "collapsed": false
   },
   "outputs": [
    {
     "data": {
      "text/plain": [
       "array([5, 9, 3, 4, 9, 0, 1, 6, 2, 7])"
      ]
     },
     "execution_count": 141,
     "metadata": {},
     "output_type": "execute_result"
    }
   ],
   "source": [
    "predictions_test1 = np.argmax(predictions_test1, axis=1)\n",
    "predictions_test1"
   ]
  },
  {
   "cell_type": "code",
   "execution_count": null,
   "metadata": {
    "collapsed": true
   },
   "outputs": [],
   "source": []
  }
 ],
 "metadata": {
  "kernelspec": {
   "display_name": "Python 2",
   "language": "python",
   "name": "python2"
  },
  "language_info": {
   "codemirror_mode": {
    "name": "ipython",
    "version": 2
   },
   "file_extension": ".py",
   "mimetype": "text/x-python",
   "name": "python",
   "nbconvert_exporter": "python",
   "pygments_lexer": "ipython2",
   "version": "2.7.9"
  }
 },
 "nbformat": 4,
 "nbformat_minor": 1
}
