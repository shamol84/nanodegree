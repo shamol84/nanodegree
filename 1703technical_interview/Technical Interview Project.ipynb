{
 "cells": [
  {
   "cell_type": "markdown",
   "metadata": {},
   "source": [
    "###Technical Interview Project\n",
    "#### Question 1\n",
    "Given two strings s and t, determine whether some anagram of t is a substring of s."
   ]
  },
  {
   "cell_type": "code",
   "execution_count": 33,
   "metadata": {
    "collapsed": false
   },
   "outputs": [],
   "source": [
    "def rev_str(a):\n",
    "    return a[::-1]\n",
    "#print rev_str('tita')\n",
    "def question_1(s,t):\n",
    "    if s == t:\n",
    "        return True\n",
    "    elif s == '' or t == '':\n",
    "        return False\n",
    "    else:\n",
    "        t = rev_str(t)\n",
    "        c = list(set(s)&set(t))\n",
    "        if len(c)>0:\n",
    "            return True\n",
    "        else:\n",
    "            return False\n",
    "    \n"
   ]
  },
  {
   "cell_type": "code",
   "execution_count": 36,
   "metadata": {
    "collapsed": false
   },
   "outputs": [
    {
     "name": "stdout",
     "output_type": "stream",
     "text": [
      "False\n",
      "True\n",
      "True\n",
      "True\n"
     ]
    }
   ],
   "source": [
    "###test cases ##\n",
    "print question_1('udacity','')\n",
    "##False\n",
    "print question_1('','')\n",
    "##True\n",
    "print question_1('udacity','ad')\n",
    "##True\n",
    "print question_1('lmvwxnopqrsabcdefghijktuyz', 'udacity')\n",
    "##True"
   ]
  },
  {
   "cell_type": "markdown",
   "metadata": {},
   "source": [
    "Time complexity: O(m*n), where n is the length of t; m is the length of s.\n",
    "\n",
    "Space complexity: O(1) because only need to store the value of c\n",
    "\n",
    "The overall time complexity is O(m*n) because the function loops through both s and t while trying to find the common values between them."
   ]
  },
  {
   "cell_type": "markdown",
   "metadata": {},
   "source": [
    "####Question 2\n",
    "Given a string a, find the longest palindromic substring contained in a. "
   ]
  },
  {
   "cell_type": "code",
   "execution_count": 28,
   "metadata": {
    "collapsed": true
   },
   "outputs": [],
   "source": [
    "# A O(n^2) time and O(1) space program to find the \n",
    "#longest palindromic substring\n",
    " \n",
    "# This function prints the longest palindrome substring (LPS) of str[]. \n",
    "def question2(a):\n",
    "    if len(a) <= 1:\n",
    "        return False\n",
    "    max_palindrome = ''\n",
    "    for i in range(len(a)):\n",
    "        for j in range(0, i):\n",
    "            sub_string = a[j:i+1]\n",
    "            if sub_string == sub_string[::-1]:\n",
    "                if len(sub_string) > len(max_palindrome):\n",
    "                    max_palindrome = sub_string\n",
    "    if len(max_palindrome) == 0:\n",
    "        return False\n",
    "    return max_palindrome\n"
   ]
  },
  {
   "cell_type": "code",
   "execution_count": 38,
   "metadata": {
    "collapsed": false
   },
   "outputs": [
    {
     "name": "stdout",
     "output_type": "stream",
     "text": [
      "False\n",
      "False\n",
      "geeksskeeg\n"
     ]
    }
   ],
   "source": [
    "##test cases##\n",
    "print question2('')\n",
    "# Should print False\n",
    "print question2('udacity')\n",
    "# Should print False\n",
    "print question2(\"forgeeksskeegfor\")\n"
   ]
  },
  {
   "cell_type": "markdown",
   "metadata": {},
   "source": [
    "Time complexity: O(n^2), where n is the length of string a.\n",
    "\n",
    "Space complexity: O(1)\n",
    "\n",
    "There is a nested loop in the function which causes the time complexity of O(n^2). \n",
    "\n",
    "Space complexity is O(1) because it only need to store  the current sub_string and the current max_palindrom."
   ]
  },
  {
   "cell_type": "markdown",
   "metadata": {},
   "source": [
    "####Question 3\n",
    "Given an undirected graph G, find the minimum spanning tree within G"
   ]
  },
  {
   "cell_type": "code",
   "execution_count": 7,
   "metadata": {
    "collapsed": false
   },
   "outputs": [],
   "source": [
    "def question3(G):\n",
    "    if len(G) < 1:\n",
    "        return G\n",
    "    node_1 = set(G.keys())\n",
    "    prim_mst = {}\n",
    "    i = G.keys()[0]\n",
    "    prim_mst[i] = []\n",
    "\n",
    "    while len(prim_mst.keys()) < len(node_1):\n",
    "        minm_weight = float('inf')\n",
    "        minm_edge = None\n",
    "        for node_2 in prim_mst.keys():\n",
    "            edge = [(weight_1, vertex_1) for (vertex_1, weight_1) in G[node_2] if vertex_1 not in prim_mst.keys()]\n",
    "            if len(edge) > 0:\n",
    "                weight_2, vertex_2 = min(edge)\n",
    "                if weight_2 < minm_weight:\n",
    "                    minm_weight = weight_2\n",
    "                    minm_edge = (node_2, vertex_2)\n",
    "        prim_mst[minm_edge[0]].append((minm_edge[1], minm_weight))\n",
    "        prim_mst[minm_edge[1]] = [(minm_edge[0], minm_weight)]\n",
    "    return prim_mst\n",
    "\n",
    "##idea reference: http://www.geeksforgeeks.org/greedy-algorithms-set-5-prims-minimum-spanning-tree-mst-2/"
   ]
  },
  {
   "cell_type": "code",
   "execution_count": 24,
   "metadata": {
    "collapsed": false
   },
   "outputs": [
    {
     "name": "stdout",
     "output_type": "stream",
     "text": [
      "{}\n",
      "{'A': []}\n",
      "{'A': [('B', 2)], 'C': [('B', 5)], 'B': [('A', 2), ('C', 5)]}\n"
     ]
    }
   ],
   "source": [
    "##test cases\n",
    "print question3({})\n",
    "# Should print {}\n",
    "\n",
    "print question3({'A': []})\n",
    "# Should print {'A': []}\n",
    "\n",
    "print question3({'A': [('B', 2)],\n",
    " 'B': [('A', 2), ('C', 5)], \n",
    " 'C': [('B', 5)]})\n"
   ]
  },
  {
   "cell_type": "markdown",
   "metadata": {},
   "source": [
    "Time complexity: O(e*v), , where e is the number of edges; v is the number of vertices.\n",
    "Space complexity: O(v)\n",
    "\n",
    "Here, I used the Prim's algorithm to find the minimum spanning tree. In the function I used a nested for-loop where in the outer loop iterates through each node and the inner loop iterates through each edge. Thus, the time complexity is O(e*v). \n",
    "\n",
    "The minimum spanning tree has v nodes, thus the space complexity is O(v)."
   ]
  },
  {
   "cell_type": "markdown",
   "metadata": {},
   "source": [
    "####Question 4\n",
    "Find the least common ancestor between two nodes on a binary search tree. "
   ]
  },
  {
   "cell_type": "code",
   "execution_count": 13,
   "metadata": {
    "collapsed": true
   },
   "outputs": [],
   "source": [
    "def question4(T, r, n1, n2):\n",
    "    if len(T) == 0:\n",
    "        return T\n",
    "    elif len(T) == 1:\n",
    "        return r\n",
    "    x =None\n",
    "    y =None\n",
    "    p_1 = []\n",
    "    p_2 = []\n",
    "    while x != r:\n",
    "        for a in range(len(T)):\n",
    "            if T[a][n1] == 1:\n",
    "                x = a\n",
    "                n1 = x\n",
    "                p_1.append(x)\n",
    "    while y != r:\n",
    "        for a in range(len(T)):\n",
    "            if T[a][n2] == 1:\n",
    "                y = a\n",
    "                n2 = y\n",
    "                p_2.append(y)\n",
    "    for x in p_1:\n",
    "        for y in p_2:\n",
    "            if x == y:\n",
    "                return x"
   ]
  },
  {
   "cell_type": "code",
   "execution_count": 23,
   "metadata": {
    "collapsed": false
   },
   "outputs": [
    {
     "name": "stdout",
     "output_type": "stream",
     "text": [
      "[]\n",
      "0\n",
      "3\n"
     ]
    }
   ],
   "source": [
    "print question4([],\n",
    "                None,\n",
    "                None,\n",
    "                None)\n",
    "# Should print []\n",
    "print question4([[0]],\n",
    "                0,\n",
    "                0,\n",
    "                0)\n",
    "# Should print 0\n",
    "\n",
    "print question4([[0, 1, 0, 0, 0],\n",
    "                 [0, 0, 0, 0, 0],\n",
    "                 [0, 0, 0, 0, 0],\n",
    "                 [1, 0, 0, 0, 1],\n",
    "                 [0, 0, 0, 0, 0]],\n",
    "                3,\n",
    "                1,\n",
    "                4)"
   ]
  },
  {
   "cell_type": "markdown",
   "metadata": {},
   "source": [
    "Time complexity: O(n), where n is the length of the binary tree.\n",
    "\n",
    "Space complexity: O(n) \n"
   ]
  },
  {
   "cell_type": "markdown",
   "metadata": {},
   "source": [
    "####Question 5\n",
    "Find the element in a singly linked list that's m elements from the end"
   ]
  },
  {
   "cell_type": "code",
   "execution_count": 21,
   "metadata": {
    "collapsed": true
   },
   "outputs": [],
   "source": [
    "class Node(object):\n",
    "    def __init__(self, data):\n",
    "        self.data = data\n",
    "        self.next = None\n",
    "\n",
    "def question5(ll, m):\n",
    "    if ll:\n",
    "        length = 1\n",
    "        node = ll\n",
    "        while node.next:\n",
    "            node = node.next\n",
    "            length += 1\n",
    "        if m < length:\n",
    "            l = length - m\n",
    "            i = 0\n",
    "            node = ll\n",
    "            while i < l:\n",
    "                node = node.next\n",
    "                i += 1\n",
    "        else:\n",
    "            return None\n",
    "    else:\n",
    "        node = ll\n",
    "    return node.data"
   ]
  },
  {
   "cell_type": "code",
   "execution_count": 22,
   "metadata": {
    "collapsed": false
   },
   "outputs": [
    {
     "name": "stdout",
     "output_type": "stream",
     "text": [
      "None\n",
      "None\n",
      "4\n"
     ]
    }
   ],
   "source": [
    "e0 = Node(None)\n",
    "print question5(e0, 1)\n",
    "# Should print None\n",
    "\n",
    "e0 = Node(0)\n",
    "print question5(e0, 4)\n",
    "# Should print None\n",
    "\n",
    "\n",
    "f0 = Node(0)\n",
    "f1 = Node(1)\n",
    "f2 = Node(2)\n",
    "f3 = Node(3)\n",
    "f4 = Node(4)\n",
    "f5 = Node(5)\n",
    "f6 = Node(6)\n",
    "f0.next = f1\n",
    "f1.next = f2\n",
    "f2.next = f3\n",
    "f3.next = f4\n",
    "f4.next = f5\n",
    "f5.next = f6\n",
    "\n",
    "print question5(f0, 3)\n"
   ]
  },
  {
   "cell_type": "markdown",
   "metadata": {},
   "source": [
    "Time complexity: O(n),  where n is the number of nodes in the linked list.\n",
    "\n",
    "Space complexity: O(n)\n",
    "    \n",
    "The solution first iterates through all the nodes and find the length of the linked list. This process takes O(n) time and O(n) space. "
   ]
  }
 ],
 "metadata": {
  "kernelspec": {
   "display_name": "Python 2",
   "language": "python",
   "name": "python2"
  },
  "language_info": {
   "codemirror_mode": {
    "name": "ipython",
    "version": 2
   },
   "file_extension": ".py",
   "mimetype": "text/x-python",
   "name": "python",
   "nbconvert_exporter": "python",
   "pygments_lexer": "ipython2",
   "version": "2.7.9"
  }
 },
 "nbformat": 4,
 "nbformat_minor": 0
}
